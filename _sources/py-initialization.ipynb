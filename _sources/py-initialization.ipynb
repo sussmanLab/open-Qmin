{
 "cells": [
  {
   "cell_type": "markdown",
   "metadata": {},
   "source": [
    "# Initialization (Python interface)"
   ]
  },
  {
   "cell_type": "markdown",
   "metadata": {},
   "source": [
    "## Demo for usage of *tools/initHelper.py*\n",
    "\n",
    "One option for initialization of openQmin is to specify the nematic director at each nematic site, storing this information in an initialConfigurationFile that we will import using either the command-line flag\n",
    "\n",
    "    --initialConfigurationFile /path/to/my_init_file\n",
    "    \n",
    "or by clicking *File -> load Configuration* in the GUI. \n",
    "\n",
    "*tools/initHelper.py* is a Python script to automate creation of the initialConfigurationFile, using NumPy to define functions of position \n",
    "as initial conditions for the nematic director field. Supply three strings for the functions \n",
    "giving the *x, y, z* director components, along with \n",
    "system size and nematic degree of order. The script will create an initialConfigurationFile\n",
    "where the Q-tensor has this director field and uniform, \n",
    "uniaxial nematic order."
   ]
  },
  {
   "cell_type": "code",
   "execution_count": 1,
   "metadata": {},
   "outputs": [],
   "source": [
    "from sys import path\n",
    "path.append(\"../tools/\")  # <-- replace with your path to initHelper.py\n",
    "\n",
    "from initHelper import create_init_state"
   ]
  },
  {
   "cell_type": "markdown",
   "metadata": {},
   "source": [
    "First let's define the setup and a name (with path) for our initConfigurationFiles. We're using 4 MPI processes for this example, but you can also run it with `mpi_num_processes = 1`. "
   ]
  },
  {
   "cell_type": "code",
   "execution_count": 2,
   "metadata": {},
   "outputs": [],
   "source": [
    "# system size *before* MPI subdivision\n",
    "whole_Lx = 50\n",
    "whole_Ly = 50\n",
    "whole_Lz = 50\n",
    "S = 0.53  # uniaxial order for all sites\n",
    "mpi_num_processes = 4  # set to 1 for non-MPI run\n",
    "# file path, without \".txt\", for initialConfigurationFile(s)\n",
    "initfilename_prefix = \"../my_init_file\""
   ]
  },
  {
   "cell_type": "markdown",
   "metadata": {},
   "source": [
    "Now we define functions for our director components, formatted as **strings** that will be evaluated as expressions by NumPy. This example creates a cholesteric helix, with pitch equal to the system's $z$-height and pitch axis along the $z$ direction."
   ]
  },
  {
   "cell_type": "code",
   "execution_count": 3,
   "metadata": {},
   "outputs": [],
   "source": [
    "# change these to your own functions:\n",
    "nx_function_string = f\"cos(2 * pi * z / {whole_Lz})\"\n",
    "ny_function_string = f\"sin(2 * pi * z / {whole_Lz})\"\n",
    "nz_function_string = \"0\""
   ]
  },
  {
   "cell_type": "markdown",
   "metadata": {},
   "source": [
    "The above example strings illustrate a few important points:\n",
    "\n",
    "* The strings will be evaluated after `from numpy import *`, so you can use any NumPy function (`cos`, `sin`, etc.) and constants such as `pi`.\n",
    "* Using Python f-strings, we can include values of variables (such as `whole_Lz`) in the string.\n",
    "* Coordinates (in this case, `z`) will be transformed to arrays automatically.\n",
    "* Constant values (such as `0` in this case for $n_z$) are allowed."
   ]
  },
  {
   "cell_type": "markdown",
   "metadata": {},
   "source": [
    "The allowed coordinate variables are:\n",
    "- **Cartesian**: `x`, `y`, `z`.\n",
    "    These are relative to a simulation box corner\n",
    "    and will range over the values [0,Lx-1], [0,Ly-1],\n",
    "    and [0,Lz-1] respectively. \n",
    "- **Cylindrical polar**: `rho`, `phi`, `z`.\n",
    "    These are relative to the center of the bottom face of \n",
    "    the box.\n",
    "- **Spherical polar**: `r_sph`, `theta`, `phi`.\n",
    "    These are relative to the box center, with `r_sph`\n",
    "    in units of lattice spacings.        \n"
   ]
  },
  {
   "cell_type": "markdown",
   "metadata": {},
   "source": [
    "Now we call *initHelper.py*'s function `create_init_state` to generate the initialConfigurationFiles. If using MPI, you'll see that one file is created for each MPI rank."
   ]
  },
  {
   "cell_type": "code",
   "execution_count": 4,
   "metadata": {},
   "outputs": [
    {
     "name": "stdout",
     "output_type": "stream",
     "text": [
      "Configuration for process (0,0,0) has been saved to ../my_init_file_x0y0z0.txt.\n",
      "Configuration for process (1,0,0) has been saved to ../my_init_file_x1y0z0.txt.\n",
      "Configuration for process (0,1,0) has been saved to ../my_init_file_x0y1z0.txt.\n",
      "Configuration for process (1,1,0) has been saved to ../my_init_file_x1y1z0.txt.\n",
      "['../my_init_file_x0y0z0.txt', '../my_init_file_x1y0z0.txt', '../my_init_file_x0y1z0.txt', '../my_init_file_x1y1z0.txt']\n"
     ]
    }
   ],
   "source": [
    "initfilenames = create_init_state(\n",
    "    (whole_Lx, whole_Ly, whole_Lz),\n",
    "    S,\n",
    "    initfilename_prefix,\n",
    "    nx_function_string,\n",
    "    ny_function_string,\n",
    "    nz_function_string,\n",
    "    mpi_num_processes=mpi_num_processes,\n",
    ")\n",
    "print(initfilenames)"
   ]
  },
  {
   "cell_type": "markdown",
   "metadata": {},
   "source": [
    "Let's take a look at our initial configuration. Here we're using [openViewMin](https://gitlab.com/d.a.beller/openviewmin), a visualization environment under development for use with open-Qmin. This project is not yet publicly available, so if you want to help test it out, please contact Daniel Beller at d.a.beller \\[at\\] jhu.edu. "
   ]
  },
  {
   "cell_type": "code",
   "execution_count": 5,
   "metadata": {
    "tags": [
     "hide-cell"
    ]
   },
   "outputs": [
    {
     "name": "stderr",
     "output_type": "stream",
     "text": [
      "QStandardPaths: XDG_RUNTIME_DIR not set, defaulting to '/tmp/runtime-dbeller'\n"
     ]
    },
    {
     "name": "stdout",
     "output_type": "stream",
     "text": [
      "['../my_init_file_x0y0z0.txt', '../my_init_file_x1y0z0.txt', '../my_init_file_x0y1z0.txt', '../my_init_file_x1y1z0.txt'] -> ../my_init_file.txt\n"
     ]
    }
   ],
   "source": [
    "# NOTE: Running this cell requires using openViewMin's auto-generated Python environment \"openViewMin-env\" as the kernel for the Jupyter notebook.\n",
    "\n",
    "path.append(\"../../openviewmin/\") # <-- replace with your path to openViewMin\n",
    "\n",
    "import openViewMin\n",
    "\n",
    "# If you're running this Jupyter notebook locally, you can set `off_screen=False` for more interactivity.\n",
    "nplot = openViewMin.NematicPlot(initfilenames, off_screen=True, window_size=(800, 800))\n",
    "nplot_p3js = nplot.to_pythreejs()\n",
    "nplot.close()"
   ]
  },
  {
   "cell_type": "code",
   "execution_count": 6,
   "metadata": {
    "tags": [
     "hide-input"
    ]
   },
   "outputs": [
    {
     "data": {
      "application/vnd.jupyter.widget-view+json": {
       "model_id": "1c2662d8da7d415e9870211952a14ecc",
       "version_major": 2,
       "version_minor": 0
      },
      "text/plain": [
       "Renderer(camera=PerspectiveCamera(children=(DirectionalLight(color='#fefefe', intensity=3.2, position=(1191607…"
      ]
     },
     "metadata": {},
     "output_type": "display_data"
    }
   ],
   "source": [
    "display(nplot_p3js)"
   ]
  },
  {
   "cell_type": "code",
   "execution_count": null,
   "metadata": {},
   "outputs": [],
   "source": []
  }
 ],
 "metadata": {
  "kernelspec": {
   "display_name": "openViewMin-env",
   "language": "python",
   "name": "openviewmin-env"
  },
  "language_info": {
   "codemirror_mode": {
    "name": "ipython",
    "version": 3
   },
   "file_extension": ".py",
   "mimetype": "text/x-python",
   "name": "python",
   "nbconvert_exporter": "python",
   "pygments_lexer": "ipython3",
   "version": "3.9.10"
  }
 },
 "nbformat": 4,
 "nbformat_minor": 5
}
