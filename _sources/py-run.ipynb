{
 "cells": [
  {
   "cell_type": "markdown",
   "metadata": {},
   "source": [
    "# Running openQmin (Python interface)"
   ]
  },
  {
   "cell_type": "markdown",
   "metadata": {},
   "source": [
    "Using *tools/runHelper.py*, you can define command-line parameters through a Python dictionary `runHelper.params`. These, along with any default parameters you didn't change, are converted by `runHelper.get_runcmd()` into a command-line string that calls *build/openQmin.out*.\n",
    "\n",
    "The dictionary keys of `runHelper.params` are the same as the long forms (appearing after the `--`s) of the command-line flags seen when you run `build/openQmin.out --help`, with the following exceptions:\n",
    "* `help` itself is not a key in `runHelper.params`\n",
    "* Parameters `'whole_Lx'`, `'whole_Ly'`, and `'whole_Lz'`, which define the system size **before** subdivision over MPI ranks, override `'Lx'`, `'Ly'`, and `'Lz'` by default. If you want to use `'Lx'`, `'Ly'`, `'Lz'` instead (which give the system size on each rank), you can pass `do_partition=False` to `runHelper.get_runcmd()`.\n",
    "* `--boxL` (or `-l`) for specifying cubic box size is not used here to avoid ambiguity.\n",
    "\n",
    "In the example below, we'll make use of an example boundaryFile that we created in the page on [Boundary conditions (Python interface)](py-boundaries) and the example initialConfigurationFiles that we created in the page on [Initialization (Python interface)](py-initialization). \n",
    "\n",
    "Notice that the main openQmin directory path, assigned to `runHelper.directory`, is automatically prepended to the filepaths for imported and exported data. This directory path should be either an absolute path or relative to where you'll be running the command."
   ]
  },
  {
   "cell_type": "code",
   "execution_count": 4,
   "metadata": {},
   "outputs": [
    {
     "name": "stdout",
     "output_type": "stream",
     "text": [
      "mpirun -n 4 ../build/openQmin.out --initializationSwitch 0 --GPU -1 --phaseConstantA -0.172 --phaseConstantB -2.12 --phaseConstantC 1.73 --deltaT 0.0005 --fTarget 1e-12 --iterations 500 --randomSeed -1 --L1 4.64 --L2 4.64 --L3 4.64 --L4 4.64 --L6 4.64 --Lx 25 --Ly 25 --Lz 50 --initialConfigurationFile ../my_init_file --boundaryFile ../ceiling_and_wavy_floor.txt --saveFile ../data/my_example_run --linearSpacedSaving -1 --logSpacedSaving -1 --stride 1 --hFieldX 0 --hFieldY 0 --hFieldZ 0 --hFieldMu0 1 --hFieldChi 1 --hFieldDeltaChi 0.5 --eFieldX 0 --eFieldY 0 --eFieldZ 0 --eFieldEpsilon0 1 --eFieldEpsilon 1 --eFieldDeltaEpsilon 0.5\n"
     ]
    }
   ],
   "source": [
    "from sys import path\n",
    "path.append(\"../tools/\")  # <-- replace with your path to runHelper.py\n",
    "\n",
    "import runHelper\n",
    "\n",
    "runHelper.directory = \"../\" # path to openQmin main directory\n",
    "runHelper.mpi_num_processes = 4  # set to 1 for non-MPI run\n",
    "\n",
    "runHelper.params[\"boundaryFile\"] = \"ceiling_and_wavy_floor.txt\"\n",
    "runHelper.params[\"initialConfigurationFile\"] = \"my_init_file\"\n",
    "\n",
    "# choose a location and filename-prefix for this run's results\n",
    "runHelper.params[\"saveFile\"] = \"data/my_example_run\"\n",
    "runHelper.params[\"iterations\"] = 500  # max number of minimization timesteps\n",
    "\n",
    "# system size BEFORE subdivision across MPI ranks:\n",
    "runHelper.params[\"whole_Lx\"] = 50\n",
    "runHelper.params[\"whole_Ly\"] = 50\n",
    "runHelper.params[\"whole_Lz\"] = 50\n",
    "\n",
    "runcmd = runHelper.get_runcmd()  # generate command-line string\n",
    "print(runcmd)"
   ]
  },
  {
   "cell_type": "markdown",
   "metadata": {},
   "source": [
    "We can run openQmin with these options by any of the following routes:\n",
    "\n",
    "* Call `runHelper.run()`, which executes the result of `runHelper.get_runcmd()`\n",
    "* Copy and paste the string into a terminal\n",
    "* Use the `runcmd` string in a Python script via `import os; os.system(runcmd)`\n",
    "* Run as shell command in a Jupyter notebook with `!{runcmd}`"
   ]
  },
  {
   "cell_type": "code",
   "execution_count": 5,
   "metadata": {
    "scrolled": true,
    "tags": []
   },
   "outputs": [
    {
     "name": "stdout",
     "output_type": "stream",
     "text": [
      "lattice divisions: {2, 2, 1}\n",
      "loading state...\n",
      "loading state...\n",
      "loading state...\n",
      "loading state...\n",
      "reading file with 2objects\n",
      "reading boudary type 0 with 5.300000 0.530000 and 26307 entries\n",
      "reading file with 2objects\n",
      "reading boudary type 0 with 5.300000 0.530000 and 26307 entries\n",
      "reading file with 2objects\n",
      "reading boudary type 0 with 5.300000 0.530000 and 26307 entries\n",
      "reading file with 2objects\n",
      "reading boudary type 0 with 5.300000 0.530000 and 26307 entries\n",
      "object with 26307 sites created\n",
      "object with 26307 sites created\n",
      "there are now 1 boundary objects known to the configuration... last object had 6577 sites and 1898 surface sites \n",
      "reading boudary type 1 with 5.300000 0.530000 and 2500 entries\n",
      "there are now 1 boundary objects known to the configuration... last object had 6577 sites and 1898 surface sites \n",
      "reading boudary type 1 with 5.300000 0.530000 and 2500 entries\n",
      "object with 26307 sites created\n",
      "object with 26307 sites created\n",
      "there are now 1 boundary objects known to the configuration... last object had 6577 sites and 1898 surface sites \n",
      "reading boudary type 1 with 5.300000 0.530000 and 2500 entries\n",
      "there are now 1 boundary objects known to the configuration... last object had 6576 sites and 1895 surface sites \n",
      "reading boudary type 1 with 5.300000 0.530000 and 2500 entries\n",
      "object with 2500 sites created\n",
      "there are now 2 boundary objects known to the configuration... last object had 625 sites and 725 surface sites \n",
      "object with 2500 sites created\n",
      "there are now 2 boundary objects known to the configuration... last object had 625 sites and 725 surface sites \n",
      "object with 2500 sites created\n",
      "there are now 2 boundary objects known to the configuration... last object had 625 sites and 725 surface sites \n",
      "object with 2500 sites created\n",
      "there are now 2 boundary objects known to the configuration... last object had 625 sites and 726 surface sites \n",
      "fire finished: step 500 max force:3.91e-05 \tpower: 2.36\t alpha 0.99\t dt 0.045125 \tscaling 0.249 \n",
      "fire finished: step 500 max force:3.91e-05 \tpower: 2.36\t alpha 0.99\t dt 0.045125 \tscaling 0.249 \n",
      "fire finished: step 500 max force:3.91e-05 \tpower: 2.36\t alpha 0.99\t dt 0.045125 \tscaling 0.249 \n",
      "fire finished: step 500 max force:3.91e-05 \tpower: 2.36\t alpha 0.99\t dt 0.045125 \tscaling 0.249 \n",
      "-5236.937263 581.229330 69.360224 0.000000 0.000000\n",
      "minimized to 3.91031e-05\t E=-0.190661\t\n",
      "-5236.933788 581.235202 69.360335 0.000000 0.000000\n",
      "minimized to 3.91031e-05\t E=-0.190661\t\n",
      "-5236.936485 581.264815 69.360692 0.000000 0.000000\n",
      "minimized to 3.91031e-05\t E=-0.190661\t\n",
      "-5237.066075 581.634041 74.221093 0.000000 0.000000\n",
      "minimized to 3.91031e-05\t E=-0.190661\t\n"
     ]
    }
   ],
   "source": [
    "runHelper.run()"
   ]
  },
  {
   "cell_type": "markdown",
   "metadata": {},
   "source": [
    "Let's take a look at the result. Here we're using [openViewMin](https://gitlab.com/d.a.beller/openviewmin), a visualization environment under development for use with open-Qmin. This project is not yet publicly available, so if you want to help test it out, please contact Daniel Beller at d.a.beller \\[at\\] jhu.edu."
   ]
  },
  {
   "cell_type": "code",
   "execution_count": 6,
   "metadata": {
    "tags": [
     "hide-cell"
    ]
   },
   "outputs": [
    {
     "name": "stdout",
     "output_type": "stream",
     "text": [
      "['../data/my_example_run_x0y1z0.txt', '../data/my_example_run_x1y0z0.txt', '../data/my_example_run_x1y1z0.txt', '../data/my_example_run_x0y0z0.txt'] -> ../data/my_example_run.txt\n"
     ]
    }
   ],
   "source": [
    "# NOTE: Running this cell requires using openViewMin's auto-generated Python environment \"openViewMin-env\" as the kernel for the Jupyter notebook.\n",
    "\n",
    "path.append(\"../../openviewmin/\") # <-- replace with your path to openViewMin\n",
    "\n",
    "import openViewMin\n",
    "import glob\n",
    "\n",
    "# collect all files from this run\n",
    "savedFiles = glob.glob(\"../data/my_example_run*\") \n",
    "# generate plot off-screen\n",
    "nplot = openViewMin.NematicPlot(savedFiles, off_screen=True, window_size=(800, 800))\n",
    "# rotate plane of director glyphs to y-normal\n",
    "nplot.update_filter(\"director_plane\", {\"normal\":[0,1,0]}, update_self_actor=True)\n",
    "# reduce lighting intensity a bit\n",
    "nplot.set_lights_intensity(0.6)\n",
    "# display in notebook\n",
    "nplot_p3js = nplot.to_pythreejs()\n",
    "nplot.close()"
   ]
  },
  {
   "cell_type": "code",
   "execution_count": 8,
   "metadata": {
    "tags": [
     "hide-input"
    ]
   },
   "outputs": [
    {
     "data": {
      "application/vnd.jupyter.widget-view+json": {
       "model_id": "a9ac13333e1c4bd38aaa19e3b2da6818",
       "version_major": 2,
       "version_minor": 0
      },
      "text/plain": [
       "Renderer(camera=PerspectiveCamera(children=(DirectionalLight(color='#fefefe', intensity=0.6, matrixWorldNeedsU…"
      ]
     },
     "metadata": {},
     "output_type": "display_data"
    }
   ],
   "source": [
    "display(nplot_p3js)"
   ]
  },
  {
   "cell_type": "code",
   "execution_count": null,
   "metadata": {},
   "outputs": [],
   "source": []
  }
 ],
 "metadata": {
  "kernelspec": {
   "display_name": "openViewMin-env",
   "language": "python",
   "name": "openviewmin-env"
  },
  "language_info": {
   "codemirror_mode": {
    "name": "ipython",
    "version": 3
   },
   "file_extension": ".py",
   "mimetype": "text/x-python",
   "name": "python",
   "nbconvert_exporter": "python",
   "pygments_lexer": "ipython3",
   "version": "3.9.10"
  }
 },
 "nbformat": 4,
 "nbformat_minor": 5
}
