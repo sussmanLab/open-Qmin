{
 "cells": [
  {
   "cell_type": "markdown",
   "id": "aa3fd46c-98ef-4354-8e86-960e3b3346a1",
   "metadata": {},
   "source": [
    "# open-Qmin\n",
    "*Fast, scalable, customizable software for Landau-de Gennes numerical modeling of nematic liquid crystals and their topological defects*"
   ]
  },
  {
   "cell_type": "markdown",
   "id": "3171f268-9855-47d8-b551-86c44a792b5f",
   "metadata": {},
   "source": [
    "## Overview \n",
    "\n",
    "[Open-Qmin](https://github.com/sussmanLab/open-Qmin.git) is an open-source code base for numerical modeling of nematic liquid crystals and their topological defects at equilibrium, by relaxation of a finite-difference lattice discretization of the Landau-de Gennes free energy. This project aims to be:\n",
    "\n",
    "* **Fast:** Allows utilization of GPU or CPU resources, and uses efficient minimization routines like the Fast Inertial Relaxation Engine (FIRE).\n",
    "\n",
    "* **Scalable:** Automates MPI parallelization, allowing users to exploit as many CPU cores as they have available in order to access supra-micron scales often closer to experimental dimensions.\n",
    "\n",
    "* **Customizable:** Users can specify boundary conditions, external fields, and material properties, usually without requiring recompilation. Common boundaries like planar walls or colloidal inclusions can be added with provided recipes; or users can define custom boundary geometries site-by-site.\n",
    "\n",
    "A [peer-reviewed article in *Frontiers in Physics*](https://www.frontiersin.org/articles/10.3389/fphy.2019.00204/full) describes open-Qmin's theoretical approach, numerical implementation, and basic usage. Some information is more up-to-date in the documentation you're reading here."
   ]
  },
  {
   "cell_type": "markdown",
   "id": "b267919c-3159-42b6-afee-b71e94177e38",
   "metadata": {
    "tags": [
     "remove-cell"
    ]
   },
   "source": [
    "## Visualization\n",
    "\n",
    "A Python-based 3D visualization environment called \"openViewMin\" is under development as a visualization companion to open-Qmin. It will supersede the visualization routines described in the *Frontiers in Physics* article. This documentation will make use of open-ViewMin to examine example results from open-Qmin simulations. "
   ]
  },
  {
   "cell_type": "markdown",
   "id": "908fd2fb-35eb-49a6-b976-d2d43499a36b",
   "metadata": {},
   "source": [
    "## Citation\n",
    "\n",
    "If you use open-Qmin for a publication or project, please cite:\n",
    "\n",
    "> Daniel M. Sussman and Daniel A. Beller. \"Fast, scalable, and interactive software for Landau-de Gennes numerical modeling of nematic topological defects.\" *Frontiers in Physics* **7** 204 (2019). [DOI: 10.3389/fphy.2019.00204](https://doi.org/10.3389/fphy.2019.00204)"
   ]
  },
  {
   "cell_type": "markdown",
   "id": "dc76a60e-9422-478f-9c52-3c4b2443d104",
   "metadata": {},
   "source": [
    "## Authors\n",
    "\n",
    "open-Qmin is developed as a collaboration between the research groups of [Daniel Sussman](https://www.dmsussman.org/) (Emory University) and [Daniel Beller](https://bellerphysics.gitlab.io/) (Johns Hopkins University). We very much welcome users to contribute to the project and to tell us how you're using open-Qmin and how it might be improved."
   ]
  },
  {
   "cell_type": "markdown",
   "id": "4912da1c-583f-49cb-9523-6617c858d25c",
   "metadata": {},
   "source": [
    "## Acknowledgements\n",
    "\n",
    "The first release of open-Qmin was supported by\n",
    "\n",
    "* National Science Foundation Grant POLS-1607416\n",
    "* Simons Foundation Grant 454947\n",
    "* NVIDIA Corporation\n",
    "* XSEDE Grant NSF-TG-PHY190027\n",
    "* The Multi-Envrionment Computer for Exploration and Discovery (MERCED) cluster at UC Merced, funded by NSF grant ACI-1429783\n",
    "\n",
    "Ongoing development is supported by\n",
    "\n",
    "* National Science Foundation Grant DMR-2046063\n"
   ]
  }
 ],
 "metadata": {
  "kernelspec": {
   "display_name": "Python 3 (ipykernel)",
   "language": "python",
   "name": "python3"
  },
  "language_info": {
   "codemirror_mode": {
    "name": "ipython",
    "version": 3
   },
   "file_extension": ".py",
   "mimetype": "text/x-python",
   "name": "python",
   "nbconvert_exporter": "python",
   "pygments_lexer": "ipython3",
   "version": "3.9.10"
  }
 },
 "nbformat": 4,
 "nbformat_minor": 5
}
